{
 "cells": [
  {
   "cell_type": "markdown",
   "metadata": {
    "id": "M45zLZinVtm0"
   },
   "source": [
    "# Exercises for Python basic"
   ]
  },
  {
   "cell_type": "code",
   "execution_count": 19,
   "metadata": {
    "colab": {
     "base_uri": "https://localhost:8080/",
     "height": 0
    },
    "executionInfo": {
     "elapsed": 1122,
     "status": "ok",
     "timestamp": 1618806536109,
     "user": {
      "displayName": "thu nguyen",
      "photoUrl": "https://lh3.googleusercontent.com/a-/AOh14Gj6aENTtQo7cEOOGRJdQqN8mfITauZjL-k-kdvQ=s64",
      "userId": "00349012519388067586"
     },
     "user_tz": -420
    },
    "id": "QjSYVj61ViVZ",
    "outputId": "057af058-1d80-48f2-ca12-2d0d660c56cf"
   },
   "outputs": [
    {
     "data": {
      "application/vnd.google.colaboratory.intrinsic+json": {
       "type": "string"
      },
      "text/plain": [
       "'============================================================================\\n20.\\nViết function cho phép người dùng nhập ngày, tháng, năm từ bàn phím.\\nIn ra màn hình kiểm tra ngày người dùng vừa nhập:\\n    + là ngày thứ mấy trong tuần\\n    + là ngày thứ bao nhiêu trong năm\\n    + tháng đó có bao nhiêu ngày\\n    + năm đó có phải là năm nhuận hay không\\n'"
      ]
     },
     "execution_count": 19,
     "metadata": {
      "tags": []
     },
     "output_type": "execute_result"
    }
   ],
   "source": [
    "\"\"\"============================================================================\n",
    "1 Viết function truyền vào số nguyên dương n. Trả về list bình phương của\n",
    "các số từ 1->n.\n",
    "VD: \n",
    "input: 4\n",
    "output: [1, 4, 9, 16]\n",
    "\"\"\"\n",
    "\n",
    "\"\"\"============================================================================\n",
    "2. Viết function truyền vào 2 tham số m:số dân hiện tại và n:số năm\n",
    "trả về dân số của 1 nước sau n năm, tì lệ tăng dân số là 1.8% hàng năm\n",
    "\"\"\"\n",
    "\n",
    "\"\"\"============================================================================\n",
    "3. Viết function cho người dùng nhập chỉ số điện mới và cũ từ bàn phím.\n",
    "    In ra màn hình chỉ số cũ, \n",
    "    chỉ số mới, \n",
    "    tiền trả định mức, \n",
    "    tiền trả vượt định mức, \n",
    "    tổng tiền phải trả. \n",
    "\n",
    "Định mức sử dụng điện cho mỗi hộ là: 50 KW với giá 2300đ/KW\n",
    "Nếu phần vượt định mức <= 50KW thì tính giá 4800đ/KW\n",
    "Nếu 50KW < phần vượt định mức < 100KW thì tính giá 7000đ/KW \n",
    "Nếu phần vượt định mức >= 100KW thì tính giá 9000đ/KW \n",
    "\"\"\"\n",
    "\n",
    "\"\"\"============================================================================\n",
    "4. Viết function trả về kết quả xếp loại học lực của học sinh. \n",
    "Giả sử học sinh chỉ có bốn cột điểm Toán (T), Lý (L), Hóa (H) và Anh văn (AV). \n",
    "Điểm 4 môn được nhập vào từ bàn phím và theo thang điểm 100. \n",
    "\n",
    "Qui tắc xếp loại như sau:\n",
    "    + Nếu trung bình 4 môn lớn hơn hoặc bằng 80 và không có môn nào nhỏ hơn 65, \n",
    "    thì xếp loại Giỏi.\n",
    "    + Nếu học sinh không đủ điều kiện đạt loại giỏi, mà có trung bình 4 môn \n",
    "    lớn hơn hoặc bằng 65 và không có môn nào nhỏ hơn 50, thì xếp loại Khá.\n",
    "    + Nếu học sinh không đủ điều kiện đạt loại Khá, mà có trung bình 4 môn \n",
    "    lớn hơn hoặc bằng 50 và không có môn nào nhỏ hơn 20, thì xếp loại \n",
    "    Trung bình.\n",
    "    + Nếu học sinh không đạt 3 loại trên thì xếp loại Yếu.\n",
    "\"\"\"\n",
    "\n",
    "\"\"\"============================================================================\n",
    "5. Viêt function truyền vào 2 số A < B < 2000, trả về danh sách chứa tất cả\n",
    "các số chia hết cho 7 nhưng không chia hết cho 5, nằm trong đoạn từ A \n",
    "đến B(tính cả A và B)\n",
    "\"\"\"\n",
    "\"\"\"============================================================================\n",
    "6. Viết function in ra màn hình xem chuỗi kí tự nhập vào từ người dùng có hợp\n",
    "lệ hay không. Chuỗi hợp lệ là chuỗi có chiều dài ít nhất 8 kí tự, chứa ít nhất\n",
    "một chữ in hoa, chứa ít nhất một kí tự dạng số.\n",
    "\"\"\"\n",
    "\n",
    "\"\"\"============================================================================\n",
    "7. Tạo danh sách các số nguyên dương nhỏ hơn 60000 có đặc điểm sau: số đó \n",
    "gồm n chữ số, tổng lũy thừa bậc n của các chữ số đó bằng chính số đó\n",
    "VD: \n",
    "    153 là số có 3 chữ số, \n",
    "    và 1^3 + 5^3 + 3^3 = 1 + 125 + 27 = 153\n",
    "\"\"\"\n",
    "\n",
    "\"\"\"============================================================================    \n",
    "8. Cho trước 2 dictionary, viết chương trình kết hợp 2 dictionary đó, đối với \n",
    "các item có cùng key thì cộng value lại với nhau.\n",
    "VD\n",
    "d1 = {'a': 100, 'b': 200, 'c':300}\n",
    "d2 = {'a': 300, 'b': 200, 'd':400}\n",
    "output: {'a': 400, 'b': 400, 'd': 400, 'c': 300}\n",
    "\"\"\"\n",
    "\n",
    "\"\"\"============================================================================\n",
    "9. Viết function truyền vào số nguyên dương n <= 30, trả về dictionary có độ \n",
    "dài = n sao cho mỗi cặp item có dạng (x:x*x).\n",
    "VD: \n",
    "với n = 5\n",
    "output: {1: 1, 2: 4, 3: 9, 4: 16, 5: 25}\n",
    "\"\"\"\n",
    "\n",
    "\"\"\"============================================================================\n",
    "10. Viết function tính tần suất xuất hiện các từ(cách nhau bởi dấu cách \" \") \n",
    "từ input. In ra màn hình kết quả sau khi đã sắp xếp theo bảng chữ cái.\n",
    "VD Input: \n",
    "New to Python or choosing between Python 2 and Python 3? Read Python 2 or \n",
    "Python 3.\n",
    "- Output: 2:2 , 3.:1 , 3?:1 , New:1 , Python:5 , Read:1 , and:1 , between:1 ,\n",
    " choosing:1 , or:2 , to:1\n",
    "\"\"\"\n",
    "\n",
    "\"\"\"============================================================================\n",
    "11.Viết module triangle trong đó có các hàm:\n",
    "- kiểm tra xem tam giác là tam giác cân, tam giác đều, tam giác vuông \n",
    "hay thường?\n",
    "- tính chu vi tam giác\n",
    "- tính diện tính tam giác.\n",
    "input các hàm trên là chiều dài 3 cạnh tam giác.\n",
    "\"\"\"\n",
    "\n",
    "\"\"\"============================================================================\n",
    "12. Xây dựng function trả về ma trận đơn vị kích thước N*N\n",
    "VD Input: N = 3\n",
    "Ouput = [[1,0,0],[0,1,0],[0,0,1]]\n",
    "\"\"\"\n",
    "\n",
    "\"\"\"============================================================================\n",
    "13. Xây dựng module mymath.py gồm các function sau:\n",
    "- xuất ra giá trị xuất hiện nhiều nhất trong 1 list số, trả về nhiều giá trị \n",
    "nếu có.(gọi ý dùng mode() trong statistics)\n",
    "VD: Input:[1,2,5,7,3,7,7,5,8,5]\n",
    "Output: 5, 7\n",
    "\n",
    "- tính giai thừa 1 số nguyên.\n",
    "- kiểm tra 1 số có phải là số nguyên tố hay không? \n",
    "(số nguyên tố là số chỉ chia hết cho 1 và chính nó.)\n",
    "- kiểm tra 1 số có phải số chính phương hay không? \n",
    "(số chính phương là số có căn bậc 2 là số tự nhiên.)\n",
    "Tạo 1 file main.py để gọi hàm từ module mymath\n",
    "\"\"\"\n",
    "\n",
    "\"\"\"============================================================================\n",
    "15.\n",
    "Viết hàm nhận vào file transaction.txt với dòng đầu tiên là id của tài khoản, \n",
    "dòng thứ 2 là số tài khoản, dòng thứ 3 là số dư tài khoản, các dòng tiếp theo \n",
    "hiển thị nội dung giao dịch \n",
    "    + Với D,100 là nộp vào ngân hàng 100. \n",
    "    + Với W,100 là rút ra 100 từ tài khoản. \n",
    "Hàm trả về số dư cuối cùng của tài khoản\n",
    "vd input:\n",
    "Id1\n",
    "Tk01\n",
    "400\n",
    "D,100\n",
    "W,200\n",
    "-> output: 300\n",
    "\"\"\"\n",
    "\n",
    "\"\"\"============================================================================\n",
    "16.\n",
    "File txt với nội dung file theo cú pháp sau: file gồm nhiều dòng, mỗi dòng \n",
    "tương ứng với tên học sinh và điểm số học Python được cách nhau bởi dấu phẩy.  \n",
    "Ví  dụ:\n",
    "Nam,10\n",
    "Nữ,9\n",
    "\n",
    "Viết hàm với input đầu vào là đường dẫn của file, hàm trả về danh sách các bạn \n",
    "được điểm cao nhất và điểm cao nhất\n",
    "\"\"\"\n",
    "\n",
    "\"\"\"============================================================================\n",
    "17.\n",
    "Một Robot di chuyển trong mặt phẳng bắt đầu từ điểm đầu tiên. \n",
    "Robot có thể di chuyển theo hướng UP, DOWN, LEFT và RIGHT với những bước \n",
    "nhất định. Dấu di chuyển của robot được lấy từ file txt đầu vào, với 2 dòng \n",
    "đầu tiên thể hiện vị trí điểm đầu tiên, các dòng tiếp theo thể hiện quá trình \n",
    "di chuyển trong đó các con số phía sau hướng di chuyển chính là số bước đi \n",
    "VD: Input: \n",
    "X0 4 \n",
    "Y0 3 \n",
    "UP 5 \n",
    "DOWN 3 \n",
    "LEFT 3 \n",
    "RIGHT 3 \n",
    "\n",
    "Hãy viết hàm trả về khoảng cách từ vị trí hiện tại đến vị trí đầu tiên, \n",
    "sau khi robot đã di chuyển một quãng đường với input là tên file txt.\n",
    "\"\"\"\n",
    "\n",
    "\"\"\"===========================================================================\n",
    "18. Tìm số nguyên dương N bé nhất sao cho N chia hết cho tất cả các số trong \n",
    "đoạn [1, 20]\n",
    "\"\"\"\n",
    "\"\"\"============================================================================\n",
    "19. Viết function kiểm tra chuỗi kí tự ng dùng nhập vào từ bàn phím, điều kiện\n",
    "tương tự như bài 11. Bổ sung thêm chức năng nếu như không thỏa điều kiện thì\n",
    "cho phép người dùng nhập lại, nhưng tối đa ng dùng chỉ được nhập 4 lần.\n",
    "\"\"\"\n",
    "\n",
    "\"\"\"============================================================================\n",
    "20.\n",
    "Viết function cho phép người dùng nhập ngày, tháng, năm từ bàn phím.\n",
    "In ra màn hình kiểm tra ngày người dùng vừa nhập:\n",
    "    + là ngày thứ mấy trong tuần\n",
    "    + là ngày thứ bao nhiêu trong năm\n",
    "    + tháng đó có bao nhiêu ngày\n",
    "    + năm đó có phải là năm nhuận hay không\n",
    "\"\"\""
   ]
  },
  {
   "cell_type": "markdown",
   "metadata": {
    "id": "y_eM9pDIV3BI"
   },
   "source": [
    "# Exercises data processing"
   ]
  },
  {
   "cell_type": "code",
   "execution_count": 20,
   "metadata": {
    "colab": {
     "base_uri": "https://localhost:8080/",
     "height": 86
    },
    "executionInfo": {
     "elapsed": 1106,
     "status": "ok",
     "timestamp": 1618806536110,
     "user": {
      "displayName": "thu nguyen",
      "photoUrl": "https://lh3.googleusercontent.com/a-/AOh14Gj6aENTtQo7cEOOGRJdQqN8mfITauZjL-k-kdvQ=s64",
      "userId": "00349012519388067586"
     },
     "user_tz": -420
    },
    "id": "jSULlEbtVpy4",
    "outputId": "75362720-d665-4f08-876f-735a31b8f1bc"
   },
   "outputs": [
    {
     "data": {
      "application/vnd.google.colaboratory.intrinsic+json": {
       "type": "string"
      },
      "text/plain": [
       "'\\nEx.1: Load tập data và thực hiện các yêu cầu sau:\\npath = \"https://s3-api.us-geo.objectstorage.softlayer.net/cf-courses-data/CognitiveClass/DA0101EN/automobileEDA.csv\"\\n    1) Đặt tên cột theo list sau:\\n    [\"symboling\", \"normalized-losses\", \"make\", \"fuel-type\", \"aspiration\",\\n           \"num-of-doors\", \"body-style\", \"drive-wheels\", \"engine-location\",\\n           \"wheel-base\", \"length\", \"width\", \"height\", \"curb-weight\",\\n           \"engine-type\", \"num-of-cylinders\", \"engine-size\", \"fuel-system\",\\n           \"bore\", \"stroke\", \"compression-ratio\", \"horsepower\", \"peak-rpm\",\\n           \"city-mpg\", \"highway-mpg\", \"price\"]\\n    2) Khảo sát:\\n      - Số chiều dữ liệu\\n      - Kiểu dữ liệu của các cột\\n      - Review tổng thể data dùng .describe()\\n'"
      ]
     },
     "execution_count": 20,
     "metadata": {
      "tags": []
     },
     "output_type": "execute_result"
    }
   ],
   "source": [
    "'''\n",
    "Ex.1: Load tập data và thực hiện các yêu cầu sau:\n",
    "path = \"https://s3-api.us-geo.objectstorage.softlayer.net/cf-courses-data/CognitiveClass/DA0101EN/automobileEDA.csv\"\n",
    "    1) Đặt tên cột theo list sau:\n",
    "    [\"symboling\", \"normalized-losses\", \"make\", \"fuel-type\", \"aspiration\",\n",
    "           \"num-of-doors\", \"body-style\", \"drive-wheels\", \"engine-location\",\n",
    "           \"wheel-base\", \"length\", \"width\", \"height\", \"curb-weight\",\n",
    "           \"engine-type\", \"num-of-cylinders\", \"engine-size\", \"fuel-system\",\n",
    "           \"bore\", \"stroke\", \"compression-ratio\", \"horsepower\", \"peak-rpm\",\n",
    "           \"city-mpg\", \"highway-mpg\", \"price\"]\n",
    "    2) Khảo sát:\n",
    "      - Số chiều dữ liệu\n",
    "      - Kiểu dữ liệu của các cột\n",
    "      - Review tổng thể data dùng .describe()\n",
    "'''\n"
   ]
  },
  {
   "cell_type": "code",
   "execution_count": 21,
   "metadata": {
    "colab": {
     "base_uri": "https://localhost:8080/",
     "height": 69
    },
    "executionInfo": {
     "elapsed": 1100,
     "status": "ok",
     "timestamp": 1618806536112,
     "user": {
      "displayName": "thu nguyen",
      "photoUrl": "https://lh3.googleusercontent.com/a-/AOh14Gj6aENTtQo7cEOOGRJdQqN8mfITauZjL-k-kdvQ=s64",
      "userId": "00349012519388067586"
     },
     "user_tz": -420
    },
    "id": "AALflevSZWxw",
    "outputId": "61c616c4-226b-4330-b50b-f77077e54bae"
   },
   "outputs": [
    {
     "data": {
      "application/vnd.google.colaboratory.intrinsic+json": {
       "type": "string"
      },
      "text/plain": [
       "'\\n3) Xử lý null:\\n    Tìm giá trị NULL:\\n      - Tạo một data frame gồm các dòng dữ liệu là NULL của data gốc\\n      - Tạo một data frame gồm các dòng dữ liệu chứa ít nhất 1 phần tử null \\n      trong data gốc.\\n      - Đếm xem mỗi cột có bao nhiêu giá trị null trong data gốc.\\n    Xử lý NULL:\\n      - drop data\\n        + drop những dòng toàn bộ là null\\n        + drop the whole column\\n      - replace data\\n          + replace it by mean\\n          + replace it by frequency\\n          + replace it based on other functions\\n'"
      ]
     },
     "execution_count": 21,
     "metadata": {
      "tags": []
     },
     "output_type": "execute_result"
    }
   ],
   "source": [
    "'''\n",
    "3) Xử lý null:\n",
    "    Tìm giá trị NULL:\n",
    "      - Tạo một data frame gồm các dòng dữ liệu là NULL của data gốc\n",
    "      - Tạo một data frame gồm các dòng dữ liệu chứa ít nhất 1 phần tử null \n",
    "      trong data gốc.\n",
    "      - Đếm xem mỗi cột có bao nhiêu giá trị null trong data gốc.\n",
    "    Xử lý NULL:\n",
    "      - drop data\n",
    "        + drop những dòng toàn bộ là null\n",
    "        + drop the whole column\n",
    "      - replace data\n",
    "          + replace it by mean\n",
    "          + replace it by frequency\n",
    "          + replace it based on other functions\n",
    "'''"
   ]
  },
  {
   "cell_type": "code",
   "execution_count": 22,
   "metadata": {
    "colab": {
     "base_uri": "https://localhost:8080/",
     "height": 35
    },
    "executionInfo": {
     "elapsed": 1092,
     "status": "ok",
     "timestamp": 1618806536114,
     "user": {
      "displayName": "thu nguyen",
      "photoUrl": "https://lh3.googleusercontent.com/a-/AOh14Gj6aENTtQo7cEOOGRJdQqN8mfITauZjL-k-kdvQ=s64",
      "userId": "00349012519388067586"
     },
     "user_tz": -420
    },
    "id": "UoyAlDisZzUW",
    "outputId": "37cf45e7-86a1-49c1-e6f7-4f6181850bae"
   },
   "outputs": [
    {
     "data": {
      "application/vnd.google.colaboratory.intrinsic+json": {
       "type": "string"
      },
      "text/plain": [
       "'\\n    4) Tạo một data.frame thống kê các chỉ số: min, average, max của các chỉ số \\n    sau theo số lượng cửa.\\n      - price, stroke, num-of-cylinders, width, height\\n    Khảo sát tương tự cho cột num-of-cylinders & make\\n'"
      ]
     },
     "execution_count": 22,
     "metadata": {
      "tags": []
     },
     "output_type": "execute_result"
    }
   ],
   "source": [
    "'''\n",
    "    4) Tạo một data.frame thống kê các chỉ số: min, average, max của các chỉ số \n",
    "    sau theo số lượng cửa.\n",
    "      - price, stroke, num-of-cylinders, width, height\n",
    "    Khảo sát tương tự cho cột num-of-cylinders & make\n",
    "'''"
   ]
  },
  {
   "cell_type": "code",
   "execution_count": 23,
   "metadata": {
    "colab": {
     "base_uri": "https://localhost:8080/",
     "height": 35
    },
    "executionInfo": {
     "elapsed": 1083,
     "status": "ok",
     "timestamp": 1618806536115,
     "user": {
      "displayName": "thu nguyen",
      "photoUrl": "https://lh3.googleusercontent.com/a-/AOh14Gj6aENTtQo7cEOOGRJdQqN8mfITauZjL-k-kdvQ=s64",
      "userId": "00349012519388067586"
     },
     "user_tz": -420
    },
    "id": "sWpl8_uIdzRp",
    "outputId": "c0a7ca6a-bec5-4152-b725-371867636f7c"
   },
   "outputs": [
    {
     "data": {
      "application/vnd.google.colaboratory.intrinsic+json": {
       "type": "string"
      },
      "text/plain": [
       "'\\n    5) Filtering (num-of-cylinders, price):\\n      - Tìm ra những dòng xe 4 bánh và có giá trên 11k\\n      - Có hay không xe 6 bánh, có hoursePower > 5125 & giá < 5k\\n'"
      ]
     },
     "execution_count": 23,
     "metadata": {
      "tags": []
     },
     "output_type": "execute_result"
    }
   ],
   "source": [
    "'''\n",
    "    5) Filtering (num-of-cylinders, price):\n",
    "      - Tìm ra những dòng xe 4 bánh và có giá trên 11k\n",
    "      - Có hay không xe 6 bánh, có hoursePower > 5125 & giá < 5k\n",
    "'''"
   ]
  },
  {
   "cell_type": "code",
   "execution_count": 24,
   "metadata": {
    "colab": {
     "base_uri": "https://localhost:8080/",
     "height": 52
    },
    "executionInfo": {
     "elapsed": 1074,
     "status": "ok",
     "timestamp": 1618806536117,
     "user": {
      "displayName": "thu nguyen",
      "photoUrl": "https://lh3.googleusercontent.com/a-/AOh14Gj6aENTtQo7cEOOGRJdQqN8mfITauZjL-k-kdvQ=s64",
      "userId": "00349012519388067586"
     },
     "user_tz": -420
    },
    "id": "zBbDDsC7hpVT",
    "outputId": "71a4c48f-57f7-4831-b9c2-3a479080ef8c"
   },
   "outputs": [
    {
     "data": {
      "application/vnd.google.colaboratory.intrinsic+json": {
       "type": "string"
      },
      "text/plain": [
       "'\\n6) BINNING\\n      - Dựa trên horsepower để Filling những giá trị NULL horsepower-binned\\n      - Dựa trên \"price\", tạo 1 cột \"group\" bằng cách xét:\\n      + 0 < price < 10k => \"low\" \\n      + 10k <= price < 20k => \"medium\"\\n      + 20k <= price => \"high\"\\n'"
      ]
     },
     "execution_count": 24,
     "metadata": {
      "tags": []
     },
     "output_type": "execute_result"
    }
   ],
   "source": [
    "'''\n",
    "6) BINNING\n",
    "      - Dựa trên horsepower để Filling những giá trị NULL horsepower-binned\n",
    "      - Dựa trên \"price\", tạo 1 cột \"group\" bằng cách xét:\n",
    "      + 0 < price < 10k => \"low\" \n",
    "      + 10k <= price < 20k => \"medium\"\n",
    "      + 20k <= price => \"high\"\n",
    "'''"
   ]
  },
  {
   "cell_type": "code",
   "execution_count": 25,
   "metadata": {
    "colab": {
     "base_uri": "https://localhost:8080/",
     "height": 69
    },
    "executionInfo": {
     "elapsed": 1066,
     "status": "ok",
     "timestamp": 1618806536119,
     "user": {
      "displayName": "thu nguyen",
      "photoUrl": "https://lh3.googleusercontent.com/a-/AOh14Gj6aENTtQo7cEOOGRJdQqN8mfITauZjL-k-kdvQ=s64",
      "userId": "00349012519388067586"
     },
     "user_tz": -420
    },
    "id": "2bJ7Da4c1A3h",
    "outputId": "3810bb51-00bd-4af7-877f-3123bae02c96"
   },
   "outputs": [
    {
     "data": {
      "application/vnd.google.colaboratory.intrinsic+json": {
       "type": "string"
      },
      "text/plain": [
       "'\\nEx.2) Đọc file Data - Single Worksheet.xlsx và thực hiện các thống kê sau:\\n    - Khảo sát xem file có bao nhiêu dòng, bao nhiêu côt?\\n    - Xuất ra 3 dòng đầu của data để xem thử?\\n    - Xuất ra list tên cột của data?\\n    - Kiểm tra data có missing không? tính số lượng missing ở các cột tương ứng nếu có?\\n    - Tạo một dataframe gồm 4 cột: city, số người, số lượng nam và số lượng nữ ở \\n    tương ứng mỗi thành phố.\\n    - Thêm cột tỉ lệ nam và nữ vào data vừa tạo.\\n'"
      ]
     },
     "execution_count": 25,
     "metadata": {
      "tags": []
     },
     "output_type": "execute_result"
    }
   ],
   "source": [
    "'''\n",
    "Ex.2) Đọc file Data - Single Worksheet.xlsx và thực hiện các thống kê sau:\n",
    "    - Khảo sát xem file có bao nhiêu dòng, bao nhiêu côt?\n",
    "    - Xuất ra 3 dòng đầu của data để xem thử?\n",
    "    - Xuất ra list tên cột của data?\n",
    "    - Kiểm tra data có missing không? tính số lượng missing ở các cột tương ứng nếu có?\n",
    "    - Tạo một dataframe gồm 4 cột: city, số người, số lượng nam và số lượng nữ ở \n",
    "    tương ứng mỗi thành phố.\n",
    "    - Thêm cột tỉ lệ nam và nữ vào data vừa tạo.\n",
    "'''"
   ]
  },
  {
   "cell_type": "code",
   "execution_count": 26,
   "metadata": {
    "colab": {
     "base_uri": "https://localhost:8080/",
     "height": 52
    },
    "executionInfo": {
     "elapsed": 1540,
     "status": "ok",
     "timestamp": 1618806536603,
     "user": {
      "displayName": "thu nguyen",
      "photoUrl": "https://lh3.googleusercontent.com/a-/AOh14Gj6aENTtQo7cEOOGRJdQqN8mfITauZjL-k-kdvQ=s64",
      "userId": "00349012519388067586"
     },
     "user_tz": -420
    },
    "id": "AMv8hAVwXgyY",
    "outputId": "8ca48be8-ca40-4960-eea4-2ac30842e04f"
   },
   "outputs": [
    {
     "data": {
      "application/vnd.google.colaboratory.intrinsic+json": {
       "type": "string"
      },
      "text/plain": [
       "'\\nEx.3) Thực hiện các bước sau để load data và làm theo yêu cầu\\n\\nKhảo sát tập dữ liệu: \"nba.csv\"\\n  - Khảo sát cột College theo \"Position\", \"Salary\"\\n  - Khảo sát mối quan hệ của Position theo Age\\n  - Age theo Salary\\n  - Số người theo Position\\n  - ...\\n'"
      ]
     },
     "execution_count": 26,
     "metadata": {
      "tags": []
     },
     "output_type": "execute_result"
    }
   ],
   "source": [
    "'''\n",
    "Ex.3) Thực hiện các bước sau để load data và làm theo yêu cầu\n",
    "\n",
    "Khảo sát tập dữ liệu: \"nba.csv\"\n",
    "  - Khảo sát cột College theo \"Position\", \"Salary\"\n",
    "  - Khảo sát mối quan hệ của Position theo Age\n",
    "  - Age theo Salary\n",
    "  - Số người theo Position\n",
    "  - ...\n",
    "'''"
   ]
  },
  {
   "cell_type": "code",
   "execution_count": 27,
   "metadata": {
    "colab": {
     "base_uri": "https://localhost:8080/",
     "height": 35
    },
    "executionInfo": {
     "elapsed": 1531,
     "status": "ok",
     "timestamp": 1618806536604,
     "user": {
      "displayName": "thu nguyen",
      "photoUrl": "https://lh3.googleusercontent.com/a-/AOh14Gj6aENTtQo7cEOOGRJdQqN8mfITauZjL-k-kdvQ=s64",
      "userId": "00349012519388067586"
     },
     "user_tz": -420
    },
    "id": "eOtayn7spsTB",
    "outputId": "09626897-a890-4faa-c5fe-f209165b7fb3"
   },
   "outputs": [
    {
     "data": {
      "application/vnd.google.colaboratory.intrinsic+json": {
       "type": "string"
      },
      "text/plain": [
       "'\\nEx.4)\\nThực hiện khảo sát cho data fortune1000.csv\\n  - Thống kê data đã cho theo ngành: cho tất cả các cột còn lại\\n'"
      ]
     },
     "execution_count": 27,
     "metadata": {
      "tags": []
     },
     "output_type": "execute_result"
    }
   ],
   "source": [
    "'''\n",
    "Ex.4)\n",
    "Thực hiện khảo sát cho data fortune1000.csv\n",
    "  - Thống kê data đã cho theo ngành: cho tất cả các cột còn lại\n",
    "'''"
   ]
  },
  {
   "cell_type": "code",
   "execution_count": 28,
   "metadata": {
    "colab": {
     "base_uri": "https://localhost:8080/",
     "height": 35
    },
    "executionInfo": {
     "elapsed": 1522,
     "status": "ok",
     "timestamp": 1618806536605,
     "user": {
      "displayName": "thu nguyen",
      "photoUrl": "https://lh3.googleusercontent.com/a-/AOh14Gj6aENTtQo7cEOOGRJdQqN8mfITauZjL-k-kdvQ=s64",
      "userId": "00349012519388067586"
     },
     "user_tz": -420
    },
    "id": "ffq7E4VglFjA",
    "outputId": "e14f7b87-d23c-4465-b41f-06986340efff"
   },
   "outputs": [
    {
     "data": {
      "application/vnd.google.colaboratory.intrinsic+json": {
       "type": "string"
      },
      "text/plain": [
       "'\\nEx.5) Plot\\n  - Load file data movie_scores.csv và tạo bar chart thể hiện 2 chỉ số scores\\n  theo titles.\\n  - Thực hiện tưng tự cho data smartphone_sales.csv\\n'"
      ]
     },
     "execution_count": 28,
     "metadata": {
      "tags": []
     },
     "output_type": "execute_result"
    }
   ],
   "source": [
    "'''\n",
    "Ex.5) Plot\n",
    "  - Load file data movie_scores.csv và tạo bar chart thể hiện 2 chỉ số scores\n",
    "  theo titles.\n",
    "  - Thực hiện tưng tự cho data smartphone_sales.csv\n",
    "'''"
   ]
  },
  {
   "cell_type": "code",
   "execution_count": 29,
   "metadata": {
    "colab": {
     "base_uri": "https://localhost:8080/",
     "height": 52
    },
    "executionInfo": {
     "elapsed": 1512,
     "status": "ok",
     "timestamp": 1618806536605,
     "user": {
      "displayName": "thu nguyen",
      "photoUrl": "https://lh3.googleusercontent.com/a-/AOh14Gj6aENTtQo7cEOOGRJdQqN8mfITauZjL-k-kdvQ=s64",
      "userId": "00349012519388067586"
     },
     "user_tz": -420
    },
    "id": "mWdJrHIAt-s-",
    "outputId": "97f03be0-acff-4053-8ff0-fbcd0096d7f8"
   },
   "outputs": [
    {
     "data": {
      "application/vnd.google.colaboratory.intrinsic+json": {
       "type": "string"
      },
      "text/plain": [
       "'\\nEx.6) Load data \"flight_details.csv\" và thực hiện thống kê sau: \\n  - Tạo bảng thống kê với month là index và năm là cột giá trị bên trong bảng \\n  là số hành khách tương ứng. \\n  - Hãy chọn 1 loại chart thích hợp có thể biểu thị được số lượng hàng khách \\n  theo năm và theo tháng tương ứng của mỗi năm. \\n'"
      ]
     },
     "execution_count": 29,
     "metadata": {
      "tags": []
     },
     "output_type": "execute_result"
    }
   ],
   "source": [
    "'''\n",
    "Ex.6) Load data \"flight_details.csv\" và thực hiện thống kê sau: \n",
    "  - Tạo bảng thống kê với month là index và năm là cột giá trị bên trong bảng \n",
    "  là số hành khách tương ứng. \n",
    "  - Hãy chọn 1 loại chart thích hợp có thể biểu thị được số lượng hàng khách \n",
    "  theo năm và theo tháng tương ứng của mỗi năm. \n",
    "'''"
   ]
  },
  {
   "cell_type": "code",
   "execution_count": 30,
   "metadata": {
    "colab": {
     "base_uri": "https://localhost:8080/",
     "height": 35
    },
    "executionInfo": {
     "elapsed": 1502,
     "status": "ok",
     "timestamp": 1618806536606,
     "user": {
      "displayName": "thu nguyen",
      "photoUrl": "https://lh3.googleusercontent.com/a-/AOh14Gj6aENTtQo7cEOOGRJdQqN8mfITauZjL-k-kdvQ=s64",
      "userId": "00349012519388067586"
     },
     "user_tz": -420
    },
    "id": "Z9fSreyKt-LA",
    "outputId": "17682e42-c13d-4d9c-ceaf-f1481628c970"
   },
   "outputs": [
    {
     "data": {
      "application/vnd.google.colaboratory.intrinsic+json": {
       "type": "string"
      },
      "text/plain": [
       "'\\nEx.7) Hãy load data \"youtube.csv\" và thực hiện các công việc sau: \\n  - Thực hiện những thông kê cần thiết để khả sát và hiểu data. \\n  - Sử dụng những cách visualize đã học để thể hiện ý nghĩa data theo cách hiểu của mình.\\n'"
      ]
     },
     "execution_count": 30,
     "metadata": {
      "tags": []
     },
     "output_type": "execute_result"
    }
   ],
   "source": [
    "'''\n",
    "Ex.7) Hãy load data \"youtube.csv\" và thực hiện các công việc sau: \n",
    "  - Thực hiện những thông kê cần thiết để khả sát và hiểu data. \n",
    "  - Sử dụng những cách visualize đã học để thể hiện ý nghĩa data theo cách hiểu của mình.\n",
    "'''"
   ]
  },
  {
   "cell_type": "code",
   "execution_count": 31,
   "metadata": {
    "colab": {
     "base_uri": "https://localhost:8080/",
     "height": 86
    },
    "executionInfo": {
     "elapsed": 1493,
     "status": "ok",
     "timestamp": 1618806536607,
     "user": {
      "displayName": "thu nguyen",
      "photoUrl": "https://lh3.googleusercontent.com/a-/AOh14Gj6aENTtQo7cEOOGRJdQqN8mfITauZjL-k-kdvQ=s64",
      "userId": "00349012519388067586"
     },
     "user_tz": -420
    },
    "id": "qR2Z1N2pvF-n",
    "outputId": "689792b5-198f-48d5-82e5-1b2f5190e571"
   },
   "outputs": [
    {
     "data": {
      "application/vnd.google.colaboratory.intrinsic+json": {
       "type": "string"
      },
      "text/plain": [
       "'\\nEx.8) load các data sau và thực hiện theo yêu cầu:\\nweek1 = pd.read_csv(data_path + \"Restaurant - Week 1 Sales.csv\")\\nweek2 = pd.read_csv(data_path + \"Restaurant - Week 2 Sales.csv\")\\ncustomers = pd.read_csv(data_path + \"Restaurant - Customers.csv\")\\nfoods = pd.read_csv(data_path + \"Restaurant - Foods.csv\")\\n\\n1) Join all data for analysis:\\n    - Concat data week1 and week2\\n    - Merge with data foods & customers\\n2) Statistic & visualize features of the data\\n\\n3) Khảo sát \\n  - Tỉ lệ nam nữ\\n  - Food theo giới tính\\n  - Giá theo giới tính\\n  - Company:\\n    + Tỉ lệ nam nữ đi mua hàng ở mỗi cty\\n    + Loại thức ăn mà các thành viên ở các cty hay mua\\n    + Có mua lặp lại không\\n    + Thống kê giá sản phẩm được mua bởi thành viên của các công ty\\n'"
      ]
     },
     "execution_count": 31,
     "metadata": {
      "tags": []
     },
     "output_type": "execute_result"
    }
   ],
   "source": [
    "'''\n",
    "Ex.8) load các data sau và thực hiện theo yêu cầu:\n",
    "week1 = pd.read_csv(data_path + \"Restaurant - Week 1 Sales.csv\")\n",
    "week2 = pd.read_csv(data_path + \"Restaurant - Week 2 Sales.csv\")\n",
    "customers = pd.read_csv(data_path + \"Restaurant - Customers.csv\")\n",
    "foods = pd.read_csv(data_path + \"Restaurant - Foods.csv\")\n",
    "\n",
    "1) Join all data for analysis:\n",
    "    - Concat data week1 and week2\n",
    "    - Merge with data foods & customers\n",
    "2) Statistic & visualize features of the data\n",
    "\n",
    "3) Khảo sát \n",
    "  - Tỉ lệ nam nữ\n",
    "  - Food theo giới tính\n",
    "  - Giá theo giới tính\n",
    "  - Company:\n",
    "    + Tỉ lệ nam nữ đi mua hàng ở mỗi cty\n",
    "    + Loại thức ăn mà các thành viên ở các cty hay mua\n",
    "    + Có mua lặp lại không\n",
    "    + Thống kê giá sản phẩm được mua bởi thành viên của các công ty\n",
    "'''"
   ]
  },
  {
   "cell_type": "code",
   "execution_count": 32,
   "metadata": {
    "colab": {
     "base_uri": "https://localhost:8080/",
     "height": 35
    },
    "executionInfo": {
     "elapsed": 1483,
     "status": "ok",
     "timestamp": 1618806536608,
     "user": {
      "displayName": "thu nguyen",
      "photoUrl": "https://lh3.googleusercontent.com/a-/AOh14Gj6aENTtQo7cEOOGRJdQqN8mfITauZjL-k-kdvQ=s64",
      "userId": "00349012519388067586"
     },
     "user_tz": -420
    },
    "id": "LLLVRC4IvGa7",
    "outputId": "b5bdd7b4-95c7-4755-d880-ec8ea6fb8a07"
   },
   "outputs": [
    {
     "data": {
      "application/vnd.google.colaboratory.intrinsic+json": {
       "type": "string"
      },
      "text/plain": [
       "'\\nEx.9) Thực hiện load và thống kê tập data final-Churn-Modelling.csv\\n'"
      ]
     },
     "execution_count": 32,
     "metadata": {
      "tags": []
     },
     "output_type": "execute_result"
    }
   ],
   "source": [
    "'''\n",
    "Ex.9) Thực hiện load và thống kê tập data final-Churn-Modelling.csv\n",
    "'''"
   ]
  },
  {
   "cell_type": "markdown",
   "metadata": {
    "id": "zDJBckjoW5S1"
   },
   "source": [
    "## Khảo sát nhóm các biến categorical:\n",
    "    - Geography\n",
    "    - Gender\n",
    "    - HasCrCard\n",
    "    - IsActiveMember"
   ]
  },
  {
   "cell_type": "markdown",
   "metadata": {
    "id": "uL6p4SG3W5TC"
   },
   "source": [
    "## Khảo sát các biến số:\n",
    "    - CreditScore\n",
    "    - Age\n",
    "    - Tenure\n",
    "    - Balance\n",
    "    - NumOfProducts\n",
    "    - EstimatedSalary"
   ]
  },
  {
   "cell_type": "code",
   "execution_count": 33,
   "metadata": {
    "colab": {
     "base_uri": "https://localhost:8080/",
     "height": 103
    },
    "executionInfo": {
     "elapsed": 1474,
     "status": "ok",
     "timestamp": 1618806536608,
     "user": {
      "displayName": "thu nguyen",
      "photoUrl": "https://lh3.googleusercontent.com/a-/AOh14Gj6aENTtQo7cEOOGRJdQqN8mfITauZjL-k-kdvQ=s64",
      "userId": "00349012519388067586"
     },
     "user_tz": -420
    },
    "id": "ECUqLCInvGNu",
    "outputId": "727fc0e2-3d1c-41cd-ea64-d1712128b27f"
   },
   "outputs": [
    {
     "data": {
      "application/vnd.google.colaboratory.intrinsic+json": {
       "type": "string"
      },
      "text/plain": [
       "'\\nThực hành phân tích dữ liệu trên tập Titanic: #6,7\\n    1.) Ai là hành khác trên tàu Titanic? (Age, Gender, Class, .. etc.)?\\n    2.) Mối quan hệ giữa tầng lớp và vị trí ngồi trên tàu?\\n    3.) Những hành khách đến từ đâu (Cherbourg, Queenstown, Southhampton)?\\n    4.) Ai đi một mình, ai đi với gia đình?\\n    5.) Đưa ra nhận xét về yếu tố giúp một người sống sót.\\n\\nQuy trình phân tích trên tập dữ liệu: Những câu hỏi cần đặt ra khi phân tích\\n    1.) Khảo sát phân phối hết các cột và mối liên hệ của các cột\\n    2.) Tập trung vào target để khai thác các yếu tố liên quan (sống vs chết)\\n    3.) Tỉ lệ sống theo: \\n        - giới tính\\n        - trẻ con hay người lớn\\n        - theo class\\n        - đi 1 mình hay với gia đình\\n        - số anh chị em\\n        - vị trí chỗ ngồi\\n        - đến từ đâu, ...\\n    4.) Đưa ra kết luận về phân phối của toàn bộ dữ liệu\\n        4.1) Phụ nữ sống nhiều hơn \\n        4.2) Trẻ em sống nhiều hơn \\n        4.3) class 1 sống nhiều hơn \\n        4.4) vị trí chổ ngồi \\n        4.5) đến từ đâu \\n        4.6) độ tuổi\\n    \\nMô tả dữ liệu:\\n    Pclass Passenger Class (1 = 1st; 2 = 2nd; 3 = 3rd)\\n    survival Survival (0 = No; 1 = Yes)\\n    name Name\\n    sex Sex\\n    age Age\\n    sibsp Number of Siblings/Spouses Aboard\\n    parch Number of Parents/Children Aboard\\n    ticket Ticket Number\\n    fare Passenger Fare (British pound)\\n    cabin Cabin\\n    embarked Port of Embarkation (C = Cherbourg; Q = Queenstown; S = Southampton)\\n'"
      ]
     },
     "execution_count": 33,
     "metadata": {
      "tags": []
     },
     "output_type": "execute_result"
    }
   ],
   "source": [
    "'''\n",
    "Thực hành phân tích dữ liệu trên tập Titanic: #6,7\n",
    "    1.) Ai là hành khác trên tàu Titanic? (Age, Gender, Class, .. etc.)?\n",
    "    2.) Mối quan hệ giữa tầng lớp và vị trí ngồi trên tàu?\n",
    "    3.) Những hành khách đến từ đâu (Cherbourg, Queenstown, Southhampton)?\n",
    "    4.) Ai đi một mình, ai đi với gia đình?\n",
    "    5.) Đưa ra nhận xét về yếu tố giúp một người sống sót.\n",
    "\n",
    "Quy trình phân tích trên tập dữ liệu: Những câu hỏi cần đặt ra khi phân tích\n",
    "    1.) Khảo sát phân phối hết các cột và mối liên hệ của các cột\n",
    "    2.) Tập trung vào target để khai thác các yếu tố liên quan (sống vs chết)\n",
    "    3.) Tỉ lệ sống theo: \n",
    "        - giới tính\n",
    "        - trẻ con hay người lớn\n",
    "        - theo class\n",
    "        - đi 1 mình hay với gia đình\n",
    "        - số anh chị em\n",
    "        - vị trí chỗ ngồi\n",
    "        - đến từ đâu, ...\n",
    "    4.) Đưa ra kết luận về phân phối của toàn bộ dữ liệu\n",
    "        4.1) Phụ nữ sống nhiều hơn \n",
    "        4.2) Trẻ em sống nhiều hơn \n",
    "        4.3) class 1 sống nhiều hơn \n",
    "        4.4) vị trí chổ ngồi \n",
    "        4.5) đến từ đâu \n",
    "        4.6) độ tuổi\n",
    "    \n",
    "Mô tả dữ liệu:\n",
    "    Pclass Passenger Class (1 = 1st; 2 = 2nd; 3 = 3rd)\n",
    "    survival Survival (0 = No; 1 = Yes)\n",
    "    name Name\n",
    "    sex Sex\n",
    "    age Age\n",
    "    sibsp Number of Siblings/Spouses Aboard\n",
    "    parch Number of Parents/Children Aboard\n",
    "    ticket Ticket Number\n",
    "    fare Passenger Fare (British pound)\n",
    "    cabin Cabin\n",
    "    embarked Port of Embarkation (C = Cherbourg; Q = Queenstown; S = Southampton)\n",
    "'''"
   ]
  },
  {
   "cell_type": "code",
   "execution_count": 33,
   "metadata": {
    "executionInfo": {
     "elapsed": 1466,
     "status": "ok",
     "timestamp": 1618806536609,
     "user": {
      "displayName": "thu nguyen",
      "photoUrl": "https://lh3.googleusercontent.com/a-/AOh14Gj6aENTtQo7cEOOGRJdQqN8mfITauZjL-k-kdvQ=s64",
      "userId": "00349012519388067586"
     },
     "user_tz": -420
    },
    "id": "yJLFTwdBY9A8"
   },
   "outputs": [],
   "source": []
  }
 ],
 "metadata": {
  "colab": {
   "collapsed_sections": [],
   "name": "Exercises_processing_data.ipynb",
   "provenance": []
  },
  "kernelspec": {
   "display_name": "Python 3",
   "language": "python",
   "name": "python3"
  },
  "language_info": {
   "codemirror_mode": {
    "name": "ipython",
    "version": 3
   },
   "file_extension": ".py",
   "mimetype": "text/x-python",
   "name": "python",
   "nbconvert_exporter": "python",
   "pygments_lexer": "ipython3",
   "version": "3.8.3"
  }
 },
 "nbformat": 4,
 "nbformat_minor": 1
}
