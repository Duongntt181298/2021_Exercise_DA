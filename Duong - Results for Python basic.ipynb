{
 "cells": [
  {
   "cell_type": "code",
   "execution_count": 58,
   "metadata": {},
   "outputs": [],
   "source": [
    "import pandas as pd\n",
    "import numpy as np\n",
    "import math"
   ]
  },
  {
   "cell_type": "code",
   "execution_count": 5,
   "metadata": {},
   "outputs": [
    {
     "data": {
      "text/plain": [
       "[1, 4, 9, 16]"
      ]
     },
     "execution_count": 5,
     "metadata": {},
     "output_type": "execute_result"
    }
   ],
   "source": [
    "# 1. Viết function truyền vào số nguyên dương n. Trả về list bình phương của các số từ 1->n.\n",
    "def get_list_square(n):\n",
    "    re = []\n",
    "    for i in range(1,n+1):\n",
    "        square_i = i*i\n",
    "        re.append(square_i)\n",
    "    return re\n",
    "get_list_square(4)"
   ]
  },
  {
   "cell_type": "code",
   "execution_count": 18,
   "metadata": {},
   "outputs": [
    {
     "data": {
      "text/plain": [
       "3.108972"
      ]
     },
     "execution_count": 18,
     "metadata": {},
     "output_type": "execute_result"
    }
   ],
   "source": [
    "#2. Viết function truyền vào 2 tham số m:số dân hiện tại và n:số năm \n",
    "#trả về dân số của 1 nước sau n năm, tì lệ tăng dân số là 1.8% hàng năm\n",
    "def get_population(m,n):\n",
    "    re = m*math.pow((1 + 0.018),n)\n",
    "    return re\n",
    "\n",
    "get_population(3,2)"
   ]
  },
  {
   "cell_type": "code",
   "execution_count": 51,
   "metadata": {},
   "outputs": [
    {
     "name": "stdout",
     "output_type": "stream",
     "text": [
      "Chỉ số cũ:  100\n",
      "Chỉ số mới:  251\n",
      "Tiền trả định mức:  115000\n",
      "Tiền trả vượt định mức:  599000\n",
      "Tổng tiền phải trả:  714000\n"
     ]
    },
    {
     "data": {
      "text/plain": [
       "(50, 50, 50, 1)"
      ]
     },
     "execution_count": 51,
     "metadata": {},
     "output_type": "execute_result"
    }
   ],
   "source": [
    "# 3. Viết function cho người dùng nhập chỉ số điện mới và cũ từ bàn phím.\n",
    "#     In ra màn hình chỉ số cũ, \n",
    "#     chỉ số mới, \n",
    "#     tiền trả định mức, \n",
    "#     tiền trả vượt định mức, \n",
    "#     tổng tiền phải trả. \n",
    "\n",
    "# Định mức sử dụng điện cho mỗi hộ là: 50 KW với giá 2300đ/KW\n",
    "# Nếu phần vượt định mức <= 50KW thì tính giá 4800đ/KW\n",
    "# Nếu 50KW < phần vượt định mức < 100KW thì tính giá 7000đ/KW \n",
    "# Nếu phần vượt định mức >= 100KW thì tính giá 9000đ/KW \n",
    "def get_electric_payment(new,old):\n",
    "    if new - old < 0:\n",
    "        print(\"Chỉ số mới >= chỉ số cũ, vui lòng nhập lại!\")\n",
    "    else:\n",
    "        dinh_muc = min(50,(new-old))\n",
    "        vuot_dinh_muc1 = min(max(0, (new - old - 50)),50)\n",
    "        vuot_dinh_muc2 = min(max(0, (new - old - 100)),50)\n",
    "        vuot_dinh_muc3 = max(0,new - old - 50 - 100)\n",
    "        \n",
    "        tien_dinh_muc = dinh_muc*2300\n",
    "        tien_vuot_dinh_muc = vuot_dinh_muc1*4800 + vuot_dinh_muc2*7000 + vuot_dinh_muc3*9000\n",
    "        total = tien_dinh_muc + tien_vuot_dinh_muc\n",
    "        print(\"Chỉ số cũ: \", old)\n",
    "        print(\"Chỉ số mới: \", new)\n",
    "        print(\"Tiền trả định mức: \", tien_dinh_muc)\n",
    "        print(\"Tiền trả vượt định mức: \", tien_vuot_dinh_muc)\n",
    "        print(\"Tổng tiền phải trả: \", total)\n",
    "        return dinh_muc, vuot_dinh_muc1, vuot_dinh_muc2, vuot_dinh_muc3\n",
    "    \n",
    "get_electric_payment(251,100)"
   ]
  },
  {
   "cell_type": "code",
   "execution_count": 30,
   "metadata": {},
   "outputs": [
    {
     "name": "stdout",
     "output_type": "stream",
     "text": [
      "Xếp loại Khá!\n"
     ]
    }
   ],
   "source": [
    "# 4. Viết function trả về kết quả xếp loại học lực của học sinh. \n",
    "# Giả sử học sinh chỉ có bốn cột điểm Toán (T), Lý (L), Hóa (H) và Anh văn (AV). \n",
    "# Điểm 4 môn được nhập vào từ bàn phím và theo thang điểm 100. \n",
    "\n",
    "# Qui tắc xếp loại như sau:\n",
    "#     + Nếu trung bình 4 môn lớn hơn hoặc bằng 80 và không có môn nào nhỏ hơn 65, \n",
    "#     thì xếp loại Giỏi.\n",
    "#     + Nếu học sinh không đủ điều kiện đạt loại giỏi, mà có trung bình 4 môn \n",
    "#     lớn hơn hoặc bằng 65 và không có môn nào nhỏ hơn 50, thì xếp loại Khá.\n",
    "#     + Nếu học sinh không đủ điều kiện đạt loại Khá, mà có trung bình 4 môn \n",
    "#     lớn hơn hoặc bằng 50 và không có môn nào nhỏ hơn 20, thì xếp loại \n",
    "#     Trung bình.\n",
    "#     + Nếu học sinh không đạt 3 loại trên thì xếp loại Yếu.\n",
    "import statistics as stats\n",
    "\n",
    "def get_ket_qua_xep_loai(toan, ly, hoa, av):\n",
    "    mean = (toan+ly+hoa+av)/4\n",
    "    if (mean >= 80)&(toan>=65)&(ly>=65)&(hoa>=65)&(av>=65):\n",
    "        print(\"Xếp loại Giỏi!\")\n",
    "    elif (mean >= 65)&(toan>=50)&(ly>=50)&(hoa>=50)&(av>=50):\n",
    "        print(\"Xếp loại Khá!\")\n",
    "    elif (mean >= 50)&(toan>=20)&(ly>=20)&(hoa>=20)&(av>=20):\n",
    "        print(\"Xếp loại Trung bình!\")\n",
    "    else:\n",
    "        print(\"Xếp loại Yếu!\")\n",
    "    \n",
    "get_ket_qua_xep_loai(59,90,70,100)"
   ]
  },
  {
   "cell_type": "code",
   "execution_count": 12,
   "metadata": {},
   "outputs": [
    {
     "data": {
      "text/plain": [
       "[7, 14, 21, 28, 42, 49, 56, 63, 77, 84, 91, 98]"
      ]
     },
     "execution_count": 12,
     "metadata": {},
     "output_type": "execute_result"
    }
   ],
   "source": [
    "# 5. Viêt function truyền vào 2 số A < B < 2000, trả về danh sách chứa tất cả\n",
    "# các số chia hết cho 7 nhưng không chia hết cho 5, nằm trong đoạn từ A \n",
    "# đến B(tính cả A và B)\n",
    "\n",
    "def list_chia_het_cho7_khong_chia_het_cho5(a,b):\n",
    "    if (a>b) | (a>2000) | (b>2000):\n",
    "        print(\"Hãy nhập a<b<2000, vui lòng nhập lại!\")\n",
    "    else:\n",
    "        re = []\n",
    "        for i in range(a,b+1):\n",
    "            if (i%5 != 0) & (i%7 == 0):\n",
    "                re.append(i)\n",
    "        return re\n",
    "    \n",
    "list_chia_het_cho7_khong_chia_het_cho5(1,100)             "
   ]
  },
  {
   "cell_type": "code",
   "execution_count": 91,
   "metadata": {},
   "outputs": [
    {
     "name": "stdout",
     "output_type": "stream",
     "text": [
      "Chuỗi không hợp lệ, vui lòng nhập lại!!!\n"
     ]
    }
   ],
   "source": [
    "# 6. Viết function in ra màn hình xem chuỗi kí tự nhập vào từ người dùng có hợp\n",
    "# lệ hay không. Chuỗi hợp lệ là chuỗi có chiều dài ít nhất 8 kí tự, chứa ít nhất\n",
    "# một chữ in hoa, chứa ít nhất một kí tự dạng số.\n",
    "def check_string(string):\n",
    "    string = string.replace(\" \",\"\")\n",
    "    if len(string) >= 8:\n",
    "        string_upper = []\n",
    "        num = []\n",
    "        for i in string:\n",
    "            if i.isupper():\n",
    "                string_upper.append(i)\n",
    "            if i.isnumeric():\n",
    "                num.append(i)\n",
    "        if len(num) != 0:\n",
    "            if len(string_upper) !=0:\n",
    "                print(\"Chuỗi hợp lệ!\")\n",
    "            else:\n",
    "                print(\"Chuỗi không hợp lệ, vui lòng nhập lại!!!\")\n",
    "        else:\n",
    "            print(\"Chuỗi không hợp lệ, vui lòng nhập lại!!!\")\n",
    "    else:\n",
    "        print(\"Chuỗi không hợp lệ, vui lòng nhập lại!!!\")\n",
    "        \n",
    "check_string(\"F       2\")"
   ]
  },
  {
   "cell_type": "code",
   "execution_count": 15,
   "metadata": {},
   "outputs": [],
   "source": [
    "# 7. Tạo danh sách các số nguyên dương nhỏ hơn 60000 có đặc điểm sau: số đó \n",
    "# gồm n chữ số, tổng lũy thừa bậc n của các chữ số đó bằng chính số đó\n",
    "# VD: \n",
    "#     153 là số có 3 chữ số, \n",
    "#     và 1^3 + 5^3 + 3^3 = 1 + 125 + 27 = 153\n",
    "\n",
    "def get_digits(n):\n",
    "    if n > 0:\n",
    "        digits = int(math.log10(n))+1\n",
    "    elif n == 0:\n",
    "        digits = 1\n",
    "    return digits\n",
    "\n",
    "# def get_sum_pow(n):\n",
    "#     sum_pow = 0\n",
    "#     digits = get_digits(n)\n",
    "#     str_num = string(n).split()\n",
    "#     for i in range(0,digits+1):\n",
    "        \n",
    "#         sum_pow = sum_pow + n%(pow(10,digit))\n",
    "\n",
    "def check_num_armstrong(num):\n",
    "    re = []\n",
    "    for num in range(0,num+1):\n",
    "        digits = get_digits(num)\n",
    "        sum_num_pow = 0\n",
    "        for i in str(num):\n",
    "            sum_num_pow = sum_num_pow + pow(int(i),digits)\n",
    "        if num == sum_num_pow:\n",
    "            re.append(num)\n",
    "    return re"
   ]
  },
  {
   "cell_type": "code",
   "execution_count": 16,
   "metadata": {},
   "outputs": [
    {
     "data": {
      "text/plain": [
       "[0, 1, 2, 3, 4, 5, 6, 7, 8, 9, 153, 370, 371, 407, 1634, 8208, 9474, 54748]"
      ]
     },
     "execution_count": 16,
     "metadata": {},
     "output_type": "execute_result"
    }
   ],
   "source": [
    "check_num_armstrong(60000)"
   ]
  },
  {
   "cell_type": "code",
   "execution_count": 34,
   "metadata": {},
   "outputs": [
    {
     "name": "stdout",
     "output_type": "stream",
     "text": [
      "{'a': 400, 'b': 400, 'c': 300, 'd': 400}\n"
     ]
    }
   ],
   "source": [
    "# 8.\n",
    "#Cho trước 2 dictionary, viết chương trình kết hợp 2 dictionary đó, đối với \n",
    "# các item có cùng key thì cộng value lại với nhau.\n",
    "# VD\n",
    "# d1 = {'a': 100, 'b': 200, 'c':300}\n",
    "# d2 = {'a': 300, 'b': 200, 'd':400}\n",
    "# output: {'a': 400, 'b': 400, 'd': 400, 'c': 300}\n",
    "d1 = {'a': 100, 'b': 200, 'c':300}\n",
    "d2 = {'a': 300, 'b': 200, 'd':400}\n",
    "\n",
    "sum_dict = {i : d1.get(i, 0) + d2.get(i,0) for i in sorted(set(d1)|set(d2))}\n",
    "print(sum_dict)"
   ]
  },
  {
   "cell_type": "code",
   "execution_count": 36,
   "metadata": {},
   "outputs": [
    {
     "data": {
      "text/plain": [
       "{1: 1, 2: 4, 3: 9, 4: 16, 5: 25}"
      ]
     },
     "execution_count": 36,
     "metadata": {},
     "output_type": "execute_result"
    }
   ],
   "source": [
    "# 9. Viết function truyền vào số nguyên dương n <= 30, trả về dictionary có độ \n",
    "# dài = n sao cho mỗi cặp item có dạng (x:x*x).\n",
    "# VD: \n",
    "# với n = 5\n",
    "# output: {1: 1, 2: 4, 3: 9, 4: 16, 5: 25}\n",
    "\n",
    "def get_dictionary(n):\n",
    "    dict_size_n = {i : i*i for i in range(1,n+1)}\n",
    "    return dict_size_n\n",
    "\n",
    "get_dictionary(5)"
   ]
  },
  {
   "cell_type": "code",
   "execution_count": 63,
   "metadata": {},
   "outputs": [
    {
     "name": "stdout",
     "output_type": "stream",
     "text": [
      "{'2': 2, '3.': 1, '3?': 1, 'New': 1, 'Python': 5, 'Read': 1, 'and': 1, 'between': 1, 'choosing': 1, 'or': 2, 'to': 1}\n"
     ]
    }
   ],
   "source": [
    "# 10. Viết function tính tần suất xuất hiện các từ(cách nhau bởi dấu cách \" \") \n",
    "# từ input. In ra màn hình kết quả sau khi đã sắp xếp theo bảng chữ cái.\n",
    "# VD Input: \n",
    "# New to Python or choosing between Python 2 and Python 3? Read Python 2 or \n",
    "# Python 3.\n",
    "# - Output: 2:2 , 3.:1 , 3?:1 , New:1 , Python:5 , Read:1 , and:1 , between:1 ,\n",
    "#  choosing:1 , or:2 , to:1\n",
    "\n",
    "def word_count(string):\n",
    "    list_string = sorted(string.split(' '))\n",
    "    re = []\n",
    "    print({i:list_string.count(i) for i in list_string})\n",
    "    \n",
    "word_count(\"New to Python or choosing between Python 2 and Python 3? Read Python 2 or Python 3.\")"
   ]
  },
  {
   "cell_type": "code",
   "execution_count": 164,
   "metadata": {},
   "outputs": [
    {
     "name": "stdout",
     "output_type": "stream",
     "text": [
      "Tam giác vừa nhập là tam giác vuông\n",
      "Chu vi của tam giác là:  12\n",
      "Diện tích của tam giác là:  6.0\n"
     ]
    }
   ],
   "source": [
    "# 11.Viết module triangle trong đó có các hàm:\n",
    "# - kiểm tra xem tam giác là tam giác cân, tam giác đều, tam giác vuông \n",
    "# hay thường?\n",
    "# - tính chu vi tam giác\n",
    "# - tính diện tính tam giác.\n",
    "# input các hàm trên là chiều dài 3 cạnh tam giác.\n",
    "\n",
    "def check_triangle(a,b,c):\n",
    "    if (a + b > c) & (a + c > b) & (b + c > a):\n",
    "        if (a == b) & (b == c):\n",
    "            print (\"Tam giác vừa nhập là tam giác đều\")\n",
    "            \n",
    "        elif ((pow(a,2) == pow(b,2)+pow(c,2))&(b == c)) |((pow(b,2) == pow(a,2)+pow(c,2)))&(a==c) | ((pow(c,2) == pow(b,2)+pow(a,2))&(a==b)):\n",
    "            print(\"Tam giác vừa nhập là tam giác vuông cân\")\n",
    "            \n",
    "        elif (a == b) | (b == c)| (a == c):\n",
    "            print(\"Tam giác vừa nhập là tam giác cân\")\n",
    "            \n",
    "        elif (pow(a,2) == pow(b,2)+pow(c,2)) | (pow(b,2) == pow(a,2)+pow(c,2)) | (pow(c,2) == pow(b,2)+pow(a,2)):\n",
    "            print(\"Tam giác vừa nhập là tam giác vuông\")\n",
    "            \n",
    "        else:\n",
    "            print(\"Tam giác vừa nhập là tam giác thường\")\n",
    "        P = a + b + c\n",
    "        p = P/2\n",
    "        S = math.sqrt(p*(p-a)*(p-b)*(p-c))\n",
    "        print(\"Chu vi của tam giác là: \", P)\n",
    "        print(\"Diện tích của tam giác là: \", S)\n",
    "    else:\n",
    "        print(\"Ba cạnh vừa nhập không tạo thành 1 tam giác, vui lòng nhập lại!\")\n",
    "        return False\n",
    "\n",
    "check_triangle(4,3,5)"
   ]
  },
  {
   "cell_type": "code",
   "execution_count": 163,
   "metadata": {},
   "outputs": [
    {
     "data": {
      "text/plain": [
       "array([[1., 0., 0.],\n",
       "       [0., 1., 0.],\n",
       "       [0., 0., 1.]])"
      ]
     },
     "execution_count": 163,
     "metadata": {},
     "output_type": "execute_result"
    }
   ],
   "source": [
    "# 12. Xây dựng function trả về ma trận đơn vị kích thước N*N\n",
    "# VD Input: N = 3\n",
    "# Ouput = [[1,0,0],[0,1,0],[0,0,1]]\n",
    "\n",
    "def matrix(n):\n",
    "    a = np.zeros((n,n))\n",
    "    for i in range(0,n):\n",
    "        for j in range(0,n):\n",
    "            if i == j:\n",
    "                a[i][j] = 1\n",
    "            else:\n",
    "                a[i][j] = 0\n",
    "    return a\n",
    "matrix(3)"
   ]
  },
  {
   "cell_type": "code",
   "execution_count": 57,
   "metadata": {},
   "outputs": [],
   "source": [
    "# 13. Xây dựng module mymath.py gồm các function sau:\n",
    "# - xuất ra giá trị xuất hiện nhiều nhất trong 1 list số, trả về nhiều giá trị \n",
    "# nếu có.(gọi ý dùng mode() trong statistics)\n",
    "# VD: Input:[1,2,5,7,3,7,7,5,8,5]\n",
    "# Output: 5, 7\n",
    "\n",
    "# - tính giai thừa 1 số nguyên.\n",
    "# - kiểm tra 1 số có phải là số nguyên tố hay không? \n",
    "# (số nguyên tố là số chỉ chia hết cho 1 và chính nó.)\n",
    "# - kiểm tra 1 số có phải số chính phương hay không? \n",
    "# (số chính phương là số có căn bậc 2 là số tự nhiên.)\n",
    "# Tạo 1 file main.py để gọi hàm từ module mymath\n",
    "\n",
    "def tan_xuat_xuat_hien_nhieu_nhat(_list):\n",
    "    list_sorted = sorted(_list)\n",
    "    _max = 1\n",
    "    count = 1\n",
    "    for i in range(1,len(list_sorted)):\n",
    "        if list_sorted[i] == list_sorted[i-1]:\n",
    "            count+=1\n",
    "            _max = max(_max,count)\n",
    "        else:\n",
    "            count = 1\n",
    "            \n",
    "    frequencies = {i: list_sorted.count(i) for i in list_sorted}\n",
    "    mode = [i for i in frequencies if frequencies[i] == _max]\n",
    "    return mode\n",
    "\n",
    "def tinh_giai_thua(a):\n",
    "    tempt = 1\n",
    "    for i in range(2,a+1):\n",
    "        tempt = tempt*i\n",
    "    return tempt\n",
    "\n",
    "def check_so_nguyen_to(a):\n",
    "    count = 0\n",
    "    for i in range(2,a):\n",
    "        if a%i == 0:\n",
    "            count+=1\n",
    "            print(f\"{a} không là số nguyên tố\")\n",
    "            break\n",
    "    if count == 0:\n",
    "        print(f\"{a} là số nguyên tố\")\n",
    "\n",
    "def check_so_chinh_phuong(a):\n",
    "    sqrt_a = math.sqrt(a)\n",
    "    if sqrt_a*sqrt_a == a:\n",
    "        print(f\"{a} là số chính phương\")\n",
    "    else:\n",
    "        print(f\"{a} không là số chính phương\")"
   ]
  },
  {
   "cell_type": "code",
   "execution_count": 36,
   "metadata": {},
   "outputs": [
    {
     "name": "stdout",
     "output_type": "stream",
     "text": [
      "ID123\n",
      "12531257\n",
      "500000\n",
      "D,100\n",
      "W,200\n",
      "============================\n",
      "ID:  ID123\n",
      "\n",
      "STK:  12531257\n",
      "\n",
      "Số tiền còn lại:  499900\n"
     ]
    }
   ],
   "source": [
    "# 15.\n",
    "# Viết hàm nhận vào file transaction.txt với dòng đầu tiên là id của tài khoản, \n",
    "# dòng thứ 2 là số tài khoản, dòng thứ 3 là số dư tài khoản, các dòng tiếp theo \n",
    "# hiển thị nội dung giao dịch \n",
    "#     + Với D,100 là nộp vào ngân hàng 100. \n",
    "#     + Với W,100 là rút ra 100 từ tài khoản. \n",
    "# Hàm trả về số dư cuối cùng của tài khoản\n",
    "\n",
    "file = open('./transaction.txt')\n",
    "print(file.read())\n",
    "\n",
    "print(\"============================\")\n",
    "file.seek(0)\n",
    "print(\"ID: \",file.readline())\n",
    "print(\"STK: \",file.readline())\n",
    "total = int(file.readline().split('\\n')[0])\n",
    "\n",
    "for line in file:\n",
    "    x = line.split('\\n')[0].split(',')\n",
    "    if x[0] == 'D':\n",
    "        total +=int(x[1])\n",
    "    elif x[0] == 'W':\n",
    "        total -=int(x[1])\n",
    "print(\"Số tiền còn lại: \", total)"
   ]
  },
  {
   "cell_type": "code",
   "execution_count": 51,
   "metadata": {},
   "outputs": [
    {
     "name": "stdout",
     "output_type": "stream",
     "text": [
      "Toàn,9\n",
      "Hoa,7\n",
      "Minh,8\n",
      "Như,10\n",
      "Anh,10\n",
      "=================================\n",
      "Max point:  10\n",
      "Top student:  ['Như', 'Anh']\n"
     ]
    }
   ],
   "source": [
    "# 16.\n",
    "# File txt với nội dung file theo cú pháp sau: file gồm nhiều dòng, mỗi dòng \n",
    "# tương ứng với tên học sinh và điểm số học Python được cách nhau bởi dấu phẩy.  \n",
    "# Ví  dụ:\n",
    "# Nam,10\n",
    "# Nữ,9\n",
    "\n",
    "# Viết hàm với input đầu vào là đường dẫn của file, hàm trả về danh sách các bạn \n",
    "# được điểm cao nhất và điểm cao nhất\n",
    "\n",
    "file = open('./Exercises16.txt', encoding='utf-8')\n",
    "print(file.read())\n",
    "\n",
    "print(\"=================================\")\n",
    "file.seek(0)\n",
    "point = 0\n",
    "for line in file:\n",
    "    point = max(point,int(line.split(',')[1]))\n",
    "print(\"Max point: \",point)\n",
    "\n",
    "file.seek(0)\n",
    "top_mem = []\n",
    "for line in file:\n",
    "    if int(line.split(',')[1]) == point:\n",
    "        top_mem.append(line.split(',')[0])\n",
    "print(\"Top student: \",top_mem)"
   ]
  },
  {
   "cell_type": "code",
   "execution_count": 64,
   "metadata": {},
   "outputs": [
    {
     "name": "stdout",
     "output_type": "stream",
     "text": [
      "X0 4 \n",
      "Y0 3 \n",
      "UP 5 \n",
      "DOWN 3 \n",
      "LEFT 3 \n",
      "RIGHT 3 \n",
      "=================================\n",
      "Vị trí hiện tại: (4,5)\n",
      "Khoảng cách di chuyển:  2.0\n"
     ]
    }
   ],
   "source": [
    "# 17.\n",
    "# Một Robot di chuyển trong mặt phẳng bắt đầu từ điểm đầu tiên. \n",
    "# Robot có thể di chuyển theo hướng UP, DOWN, LEFT và RIGHT với những bước \n",
    "# nhất định. Dấu di chuyển của robot được lấy từ file txt đầu vào, với 2 dòng \n",
    "# đầu tiên thể hiện vị trí điểm đầu tiên, các dòng tiếp theo thể hiện quá trình \n",
    "# di chuyển trong đó các con số phía sau hướng di chuyển chính là số bước đi \n",
    "# VD: Input: \n",
    "# X0 4 \n",
    "# Y0 3 \n",
    "# UP 5 \n",
    "# DOWN 3 \n",
    "# LEFT 3 \n",
    "# RIGHT 3 \n",
    "\n",
    "# Hãy viết hàm trả về khoảng cách từ vị trí hiện tại đến vị trí đầu tiên, \n",
    "# sau khi robot đã di chuyển một quãng đường với input là tên file txt.\n",
    "\n",
    "file = open('./Exercise17.txt', encoding='utf-8')\n",
    "print(file.read())\n",
    "\n",
    "print(\"=================================\")\n",
    "file.seek(0)\n",
    "x0 = int(file.readline().split(\" \")[1])\n",
    "y0 = int(file.readline().split(\" \")[1])\n",
    "\n",
    "x1 = x0\n",
    "y1 = y0\n",
    "for line in file:\n",
    "    direc = line.split(\" \")[0]\n",
    "    steps = int(line.split(\" \")[1])\n",
    "    if direc == 'UP':\n",
    "        y1+=steps\n",
    "    elif direc == 'DOWN':\n",
    "        y1-=steps\n",
    "    elif direc == 'LEFT':\n",
    "        x1-=steps\n",
    "    elif direc == 'RIGHT':\n",
    "        x1+=steps\n",
    "print(f\"Vị trí hiện tại: ({x1},{y1})\")\n",
    "distance = math.sqrt((pow((x1 - x0),2) + pow((y1 - y0),2)))\n",
    "print(\"Khoảng cách di chuyển: \", distance)\n"
   ]
  },
  {
   "cell_type": "code",
   "execution_count": 232,
   "metadata": {},
   "outputs": [
    {
     "name": "stdout",
     "output_type": "stream",
     "text": [
      "BCNN của các số trong khoảng [1,20] 232792560\n",
      "Tích của các số trong khoảng [1,20]:  2432902008176640000\n"
     ]
    }
   ],
   "source": [
    "# 18. Tìm số nguyên dương N bé nhất sao cho N chia hết cho tất cả các số trong đoạn [1, 20] (bcnn)\n",
    "\n",
    "def UCLN(a,b):\n",
    "    if b == 0:\n",
    "        return a\n",
    "    return UCLN(b, (a%b))\n",
    "\n",
    "def BCNN(a,b):\n",
    "    return int((a*b)/(UCLN(a,b)))\n",
    "\n",
    "tempt = 1\n",
    "a = 1\n",
    "for i in range(1,21):\n",
    "    tempt = BCNN(i,tempt)\n",
    "    a = a*i\n",
    "print(\"BCNN của các số trong khoảng [1,20]\", tempt)\n",
    "print(\"Tích của các số trong khoảng [1,20]: \",a)\n",
    "# BCNN(6,3)"
   ]
  },
  {
   "cell_type": "code",
   "execution_count": 181,
   "metadata": {},
   "outputs": [
    {
     "name": "stdout",
     "output_type": "stream",
     "text": [
      "Ba cạnh vừa nhập không tạo thành 1 tam giác, vui lòng nhập lại!\n",
      "1\n",
      "2\n",
      "3\n",
      "Ba cạnh vừa nhập không tạo thành 1 tam giác, vui lòng nhập lại!\n",
      "3\n",
      "4\n",
      "5\n",
      "Tam giác vừa nhập là tam giác vuông\n",
      "Chu vi của tam giác là:  12\n",
      "Diện tích của tam giác là:  6.0\n"
     ]
    }
   ],
   "source": [
    "# 19. Viết function kiểm tra chuỗi kí tự ng dùng nhập vào từ bàn phím, điều kiện\n",
    "# tương tự như bài 11. Bổ sung thêm chức năng nếu như không thỏa điều kiện thì\n",
    "# cho phép người dùng nhập lại, nhưng tối đa ng dùng chỉ được nhập 4 lần. check triangle\n",
    "\n",
    "def loop_check_triangle(times,a,b,c):\n",
    "    count = 0\n",
    "    re = check_triangle(a,b,c)\n",
    "    while count < times:\n",
    "        if re == False:\n",
    "            a = int(input())\n",
    "            b = int(input())\n",
    "            c = int(input())\n",
    "            re = check_triangle(a,b,c)\n",
    "        else:\n",
    "            break\n",
    "        count += 1\n",
    "loop_check_triangle(2,2,1,1)"
   ]
  },
  {
   "cell_type": "code",
   "execution_count": 211,
   "metadata": {},
   "outputs": [
    {
     "name": "stdout",
     "output_type": "stream",
     "text": [
      "Nhập lần lượt ngày tháng năm cần tìm: \n",
      "30\n",
      "4\n",
      "2021\n",
      "Ngày 30/4/2021 là Thứ sáu\n",
      "Ngày 30/4/2021 là ngày thứ 120 trong năm\n",
      "Tháng 4 có 30 ngày\n",
      "Năm 2021 không là năm nhuận\n"
     ]
    }
   ],
   "source": [
    "# 20.\n",
    "# Viết function cho phép người dùng nhập ngày, tháng, năm từ bàn phím.\n",
    "# In ra màn hình kiểm tra ngày người dùng vừa nhập:\n",
    "#     + là ngày thứ mấy trong tuần\n",
    "#     + là ngày thứ bao nhiêu trong năm\n",
    "#     + tháng đó có bao nhiêu ngày\n",
    "#     + năm đó có phải là năm nhuận hay không\n",
    "    \n",
    "def check_date(ngay, thang, nam):\n",
    "    #kiem tra ngay thang nam:\n",
    "    if (ngay<0) | (ngay >31) | (thang< 0) | (thang >12):\n",
    "        return(0)\n",
    "    elif thang ==2:\n",
    "        if nam %4==0 or nam %400==0:\n",
    "            if ngay > 29:\n",
    "                return(0)\n",
    "        elif ngay >28:\n",
    "            return(0)\n",
    "        else:\n",
    "            return(1)\n",
    "    elif thang == 4 or thang == 6 or thang ==9 or thang == 11:  \n",
    "        if ngay > 30:\n",
    "            return(0)\n",
    "        else:\n",
    "            return(1)\n",
    "    else:\n",
    "        return(1)\n",
    "    \n",
    "def get_thu_tu_ngay_trong_nam(ngay, thang, nam):\n",
    "    num_day_in_year = ngay\n",
    "    for m in range(1,thang):\n",
    "        tempt = check_num_day_in_month(ngay, m, nam)\n",
    "        num_day_in_year = num_day_in_year + tempt\n",
    "    print(f\"Ngày {ngay}/{thang}/{nam} là ngày thứ {num_day_in_year} trong năm\")\n",
    "    \n",
    "def check_nam_nhuan(ngay, thang, nam):\n",
    "    if nam %4==0 or nam %400==0:\n",
    "        return (1)\n",
    "    else:\n",
    "        return (0)\n",
    "\n",
    "def check_num_day_in_month(ngay, thang, nam):\n",
    "    if (thang == 1)| (thang == 3)|(thang == 5)|(thang ==7)|(thang == 8)|(thang == 10)|(thang == 12):\n",
    "        num = 31\n",
    "    elif (thang == 4)| (thang == 6)|(thang == 9)|(thang ==11):\n",
    "        num = 30\n",
    "    elif thang == 2:\n",
    "        check = check_nam_nhuan(ngay, thang, nam)\n",
    "        if check == 0:\n",
    "            num = 28\n",
    "        elif check == 1:\n",
    "            num = 29\n",
    "    return num\n",
    "\n",
    "def get_day(ngay,thang,nam):\n",
    "    t = [0, 3, 2, 5, 0, 3, 5, 1, 4, 6, 2, 4]\n",
    "    nam -= thang <3\n",
    "    num_as_day = (nam + int(nam/4) - int(nam/100) + int(nam/400)+ t[thang -1] + ngay)%7\n",
    "    #print(num_as_day)\n",
    "    A = ['Chủ nhật','Thứ hai', 'Thứ ba', 'Thứ tư', 'Thứ năm', 'Thứ sáu', 'Thứ bảy']\n",
    "    if thang < 3:\n",
    "        nam +=1\n",
    "    print (f'Ngày {ngay}/{thang}/{nam} là', A[num_as_day] )\n",
    "\n",
    "def input_time():\n",
    "    print('Nhập lần lượt ngày tháng năm cần tìm: ')\n",
    "    ngay = int(input())\n",
    "    thang = int(input())\n",
    "    nam = int(input())\n",
    "    \n",
    "    check = check_date(ngay, thang, nam)\n",
    "    if check == 1:\n",
    "        get_day(ngay, thang, nam)\n",
    "        get_thu_tu_ngay_trong_nam(ngay, thang, nam)\n",
    "        num_day = check_num_day_in_month(ngay, thang, nam)\n",
    "        print(f\"Tháng {thang} có {num_day} ngày\")\n",
    "        check = check_nam_nhuan(ngay, thang, nam)\n",
    "        if check == 1:\n",
    "            print(f\"Năm {nam} là năm nhuận\")\n",
    "        else:\n",
    "            print(f\"Năm {nam} không là năm nhuận\")\n",
    "        \n",
    "    else:\n",
    "        print(\"Thời gian không hợp lệ, vui lòng nhập lại!\")\n",
    "        \n",
    "input_time()"
   ]
  },
  {
   "cell_type": "code",
   "execution_count": null,
   "metadata": {},
   "outputs": [],
   "source": []
  },
  {
   "cell_type": "code",
   "execution_count": null,
   "metadata": {},
   "outputs": [],
   "source": []
  }
 ],
 "metadata": {
  "kernelspec": {
   "display_name": "Python 3",
   "language": "python",
   "name": "python3"
  },
  "language_info": {
   "codemirror_mode": {
    "name": "ipython",
    "version": 3
   },
   "file_extension": ".py",
   "mimetype": "text/x-python",
   "name": "python",
   "nbconvert_exporter": "python",
   "pygments_lexer": "ipython3",
   "version": "3.8.3"
  }
 },
 "nbformat": 4,
 "nbformat_minor": 4
}
